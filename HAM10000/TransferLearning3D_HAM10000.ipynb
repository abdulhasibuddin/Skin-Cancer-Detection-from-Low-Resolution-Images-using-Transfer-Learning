{
  "nbformat": 4,
  "nbformat_minor": 0,
  "metadata": {
    "accelerator": "GPU",
    "colab": {
      "name": "TransferLearning3D_HAM10000.ipynb",
      "provenance": [],
      "collapsed_sections": []
    },
    "kernelspec": {
      "display_name": "Python 3",
      "name": "python3"
    }
  },
  "cells": [
    {
      "cell_type": "code",
      "metadata": {
        "colab": {
          "base_uri": "https://localhost:8080/"
        },
        "id": "w35zPOcMyNwJ",
        "outputId": "adb6f761-fa36-44b6-ca29-bdf3272189c3"
      },
      "source": [
        "from google.colab import drive \n",
        "drive.mount('/content/drive', force_remount=True)"
      ],
      "execution_count": 1,
      "outputs": [
        {
          "output_type": "stream",
          "text": [
            "Mounted at /content/drive\n"
          ],
          "name": "stdout"
        }
      ]
    },
    {
      "cell_type": "code",
      "metadata": {
        "id": "ph-qNIaajXGT"
      },
      "source": [
        "#drive.flush_and_unmount(timeout_ms=24)"
      ],
      "execution_count": null,
      "outputs": []
    },
    {
      "cell_type": "code",
      "metadata": {
        "id": "9xc7MvTxyQd7"
      },
      "source": [
        "\n",
        "import numpy as np\n",
        "import pandas as pd\n",
        "import pickle\n",
        "import numpy as np\n",
        "import random\n",
        "import time\n",
        "import os\n",
        "#os.environ[\"OPENCV_IO_MAX_IMAGE_PIXELS\"] = pow(2,40).__str__()\n",
        "import cv2\n",
        "from tqdm import tqdm\n",
        "\n",
        "import tensorflow as tf\n",
        "from tensorflow.python.keras import Sequential\n",
        "from tensorflow.keras import layers, optimizers\n",
        "from tensorflow.keras.applications import DenseNet121\n",
        "from tensorflow.keras.applications.resnet50 import ResNet50\n",
        "from tensorflow.keras.layers import *\n",
        "from tensorflow.keras.models import Model, load_model\n",
        "from tensorflow.keras.initializers import glorot_uniform\n",
        "from tensorflow.keras.utils import plot_model\n",
        "from tensorflow.keras.callbacks import ReduceLROnPlateau, EarlyStopping, ModelCheckpoint, LearningRateScheduler\n",
        "from IPython.display import display\n",
        "from tensorflow.keras import backend as K\n",
        "import matplotlib.pyplot as plt\n",
        "import matplotlib.image as mpimg\n",
        "from sklearn.model_selection import train_test_split\n",
        "from keras import optimizers\n",
        "from sklearn.metrics import classification_report, confusion_matrix\n",
        "from keras.callbacks import CSVLogger, LambdaCallback"
      ],
      "execution_count": 2,
      "outputs": []
    },
    {
      "cell_type": "code",
      "metadata": {
        "id": "LLy6y_e1yQhC"
      },
      "source": [
        "#dataset_dir = \"drive/My Drive/HAM10000/HAM10000_Gray_Categorized_train_Upsampled/\"\n",
        "#dataset_dir = \"drive/My Drive/HAM10000/\"\n",
        "dataset_dir = \"drive/My Drive/HAM10000/HAM10000_Gray_Categorized_train_Upsampled/\"\n",
        "work_dir = \"drive/My Drive/HAM10000/\""
      ],
      "execution_count": 3,
      "outputs": []
    },
    {
      "cell_type": "code",
      "metadata": {
        "colab": {
          "base_uri": "https://localhost:8080/"
        },
        "id": "SD4sqW2K0-VE",
        "outputId": "f8146a39-1226-4247-a1c6-a3e82eb3bfd6"
      },
      "source": [
        "list_categories = ['akiec','bcc','bkl','df','mel','nv','vasc']\n",
        "num_classes = len(list_categories)\n",
        "print('num_classes =', num_classes)"
      ],
      "execution_count": 4,
      "outputs": [
        {
          "output_type": "stream",
          "text": [
            "num_classes = 7\n"
          ],
          "name": "stdout"
        }
      ]
    },
    {
      "cell_type": "code",
      "metadata": {
        "id": "JOgxOIr7FOFY"
      },
      "source": [
        ""
      ],
      "execution_count": null,
      "outputs": []
    },
    {
      "cell_type": "code",
      "metadata": {
        "colab": {
          "base_uri": "https://localhost:8080/",
          "height": 72
        },
        "id": "UGKp7XZD53Wc",
        "outputId": "b89c274a-7fd6-404c-9bee-a40edf24e6ab"
      },
      "source": [
        "# Saving files:\n",
        "'''\n",
        "np.save(work_dir+\"np_test_imageset.pkl\", np_test_imageset, allow_pickle=True)\n",
        "np.save(work_dir+\"np_val_imageset.pkl\", np_val_imageset, allow_pickle=True)\n",
        "np.save(work_dir+\"np_train_imageset.pkl\", np_train_imageset, allow_pickle=True)\n",
        "\n",
        "np.save(work_dir+\"np_test_label.pkl\", np_test_label, allow_pickle=True)\n",
        "np.save(work_dir+\"np_val_label.pkl\", np_val_label, allow_pickle=True)\n",
        "np.save(work_dir+\"np_train_label.pkl\", np_train_label, allow_pickle=True)\n",
        "#'''"
      ],
      "execution_count": null,
      "outputs": [
        {
          "output_type": "execute_result",
          "data": {
            "application/vnd.google.colaboratory.intrinsic+json": {
              "type": "string"
            },
            "text/plain": [
              "'\\nnp.save(work_dir+\"np_test_imageset.pkl\", np_test_imageset, allow_pickle=True)\\nnp.save(work_dir+\"np_val_imageset.pkl\", np_val_imageset, allow_pickle=True)\\nnp.save(work_dir+\"np_train_imageset.pkl\", np_train_imageset, allow_pickle=True)\\n\\nnp.save(work_dir+\"np_test_label.pkl\", np_test_label, allow_pickle=True)\\nnp.save(work_dir+\"np_val_label.pkl\", np_val_label, allow_pickle=True)\\nnp.save(work_dir+\"np_train_label.pkl\", np_train_label, allow_pickle=True)\\n#'"
            ]
          },
          "metadata": {
            "tags": []
          },
          "execution_count": 5
        }
      ]
    },
    {
      "cell_type": "code",
      "metadata": {
        "colab": {
          "base_uri": "https://localhost:8080/"
        },
        "id": "5rUkHKNfM6VT",
        "outputId": "24ee252c-3f9a-4776-e78e-6961692ca9c0"
      },
      "source": [
        "width = 80 # 32 64 80 \r\n",
        "height = width\r\n",
        "dim = (width, height)\r\n",
        "print(dim)"
      ],
      "execution_count": 5,
      "outputs": [
        {
          "output_type": "stream",
          "text": [
            "(80, 80)\n"
          ],
          "name": "stdout"
        }
      ]
    },
    {
      "cell_type": "code",
      "metadata": {
        "id": "s5Owb8dv86lf"
      },
      "source": [
        "# Loading files:\n",
        "'''\n",
        "np_test_imageset = np.load(dataset_dir+\"HAM10000_Gray_Categorized_train_Upsampled_128x128_norm_test_X.pkl.npy\", allow_pickle=True)\n",
        "np_val_imageset = np.load(dataset_dir+\"HAM10000_Gray_Categorized_train_Upsampled_128x128_norm_val_X.pkl.npy\", allow_pickle=True)\n",
        "np_train_imageset = np.load(dataset_dir+\"HAM10000_Gray_Categorized_train_Upsampled_128x128_norm_train_X.pkl.npy\", allow_pickle=True)\n",
        "\n",
        "np_test_label = np.load(dataset_dir+\"HAM10000_Gray_Categorized_train_Upsampled_128x128_test_Y.pkl.npy\", allow_pickle=True)\n",
        "np_val_label = np.load(dataset_dir+\"HAM10000_Gray_Categorized_train_Upsampled_128x128_val_Y.pkl.npy\", allow_pickle=True)\n",
        "np_train_label = np.load(dataset_dir+\"HAM10000_Gray_Categorized_train_Upsampled_128x128_train_Y.pkl.npy\", allow_pickle=True)\n",
        "#'''\n",
        "#'''\n",
        "np_test_imageset = np.load(dataset_dir+\"HAM10000_Gray3D_Categorized_train_Upsampled_\"+str(width)+\"x\"+str(height)+\"_norm_test_X.pkl.npy\", allow_pickle=True)\n",
        "np_val_imageset = np.load(dataset_dir+\"HAM10000_Gray3D_Categorized_train_Upsampled_\"+str(width)+\"x\"+str(height)+\"_norm_val_X.pkl.npy\", allow_pickle=True)\n",
        "np_train_imageset = np.load(dataset_dir+\"HAM10000_Gray3D_Categorized_train_Upsampled_\"+str(width)+\"x\"+str(height)+\"_norm_train_X.pkl.npy\", allow_pickle=True)\n",
        "\n",
        "np_test_label = np.load(dataset_dir+\"HAM10000_Gray3D_Categorized_train_Upsampled_\"+str(width)+\"x\"+str(height)+\"_test_Y.pkl.npy\", allow_pickle=True)\n",
        "np_val_label = np.load(dataset_dir+\"HAM10000_Gray3D_Categorized_train_Upsampled_\"+str(width)+\"x\"+str(height)+\"_val_Y.pkl.npy\", allow_pickle=True)\n",
        "np_train_label = np.load(dataset_dir+\"HAM10000_Gray3D_Categorized_train_Upsampled_\"+str(width)+\"x\"+str(height)+\"_train_Y.pkl.npy\", allow_pickle=True)\n",
        "#'''"
      ],
      "execution_count": 6,
      "outputs": []
    },
    {
      "cell_type": "code",
      "metadata": {
        "id": "gA3wNuyQ534T"
      },
      "source": [
        ""
      ],
      "execution_count": null,
      "outputs": []
    },
    {
      "cell_type": "code",
      "metadata": {
        "colab": {
          "base_uri": "https://localhost:8080/",
          "height": 36
        },
        "id": "2teOAMgRO6u1",
        "outputId": "c859a798-bcff-48b7-a684-be2bb67c4700"
      },
      "source": [
        "'''\r\n",
        "img_size = 50\r\n",
        "x_train = resize_reshape_image(x_train_original, img_size)\r\n",
        "x_test = resize_reshape_image(x_test_original, img_size)\r\n",
        "#'''\r\n",
        "'''\r\n",
        "x_train = x_train_original\r\n",
        "x_test = x_test_original\r\n",
        "#'''\r\n",
        "'''\r\n",
        "x_train = np_train_imageset\r\n",
        "x_val = np_val_imageset\r\n",
        "x_test = np_test_imageset\r\n",
        "#'''\r\n",
        "'''\r\n",
        "print(\"x_train.shape =\", x_train.shape)\r\n",
        "print(\"x_val.shape =\", x_val.shape)\r\n",
        "print(\"x_test.shape =\", x_test.shape)\r\n",
        "#'''"
      ],
      "execution_count": null,
      "outputs": [
        {
          "output_type": "execute_result",
          "data": {
            "application/vnd.google.colaboratory.intrinsic+json": {
              "type": "string"
            },
            "text/plain": [
              "'\\nprint(\"x_train.shape =\", x_train.shape)\\nprint(\"x_val.shape =\", x_val.shape)\\nprint(\"x_test.shape =\", x_test.shape)\\n#'"
            ]
          },
          "metadata": {
            "tags": []
          },
          "execution_count": 9
        }
      ]
    },
    {
      "cell_type": "code",
      "metadata": {
        "id": "YsJOqfmvO7OL"
      },
      "source": [
        ""
      ],
      "execution_count": null,
      "outputs": []
    },
    {
      "cell_type": "code",
      "metadata": {
        "colab": {
          "base_uri": "https://localhost:8080/"
        },
        "id": "OLwF7sUsyRGR",
        "outputId": "ed684f20-9106-4f7a-d7b1-ecc652b30872"
      },
      "source": [
        "'''\n",
        "final_test_imageset = np.expand_dims(np_test_imageset, axis = 3)\n",
        "final_val_imageset = np.expand_dims(np_val_imageset, axis = 3)\n",
        "final_train_imageset = np.expand_dims(np_train_imageset, axis = 3)\n",
        "#'''\n",
        "'''\n",
        "final_test_imageset = np.expand_dims(np_test_imageset, axis = 4)\n",
        "final_val_imageset = np.expand_dims(np_val_imageset, axis = 4)\n",
        "final_train_imageset = np.expand_dims(np_train_imageset, axis = 4)\n",
        "#'''\n",
        "#'''\n",
        "final_test_imageset = np_test_imageset\n",
        "final_val_imageset = np_val_imageset\n",
        "final_train_imageset = np_train_imageset\n",
        "#'''\n",
        "\n",
        "test_label2 = np.expand_dims(np_test_label, axis = 1)\n",
        "val_label2 = np.expand_dims(np_val_label, axis = 1)\n",
        "train_label2 = np.expand_dims(np_train_label, axis = 1)\n",
        "\n",
        "print('final_test_imageset.shape =', final_test_imageset.shape)\n",
        "print('final_val_imageset.shape =', final_val_imageset.shape)\n",
        "print('final_train_imageset.shape =', final_train_imageset.shape)\n",
        "\n",
        "print('\\ntest_label2.shape =', test_label2.shape)\n",
        "print('val_label2.shape =', val_label2.shape)\n",
        "print('train_label2.shape =', train_label2.shape)"
      ],
      "execution_count": 7,
      "outputs": [
        {
          "output_type": "stream",
          "text": [
            "final_test_imageset.shape = (998, 80, 80, 3)\n",
            "final_val_imageset.shape = (998, 80, 80, 3)\n",
            "final_train_imageset.shape = (37555, 80, 80, 3)\n",
            "\n",
            "test_label2.shape = (998, 1)\n",
            "val_label2.shape = (998, 1)\n",
            "train_label2.shape = (37555, 1)\n"
          ],
          "name": "stdout"
        }
      ]
    },
    {
      "cell_type": "code",
      "metadata": {
        "id": "OYGbKJikNxEq"
      },
      "source": [
        ""
      ],
      "execution_count": null,
      "outputs": []
    },
    {
      "cell_type": "code",
      "metadata": {
        "colab": {
          "base_uri": "https://localhost:8080/"
        },
        "id": "EIaimJqwyQ_c",
        "outputId": "0d183af2-9ee4-4b46-b7d2-4a397c601791"
      },
      "source": [
        "final_test_label = tf.keras.utils.to_categorical(test_label2, num_classes)\n",
        "final_val_label = tf.keras.utils.to_categorical(val_label2, num_classes)\n",
        "final_train_label = tf.keras.utils.to_categorical(train_label2, num_classes)\n",
        "\n",
        "print('final_test_label.shape =',final_test_label.shape)\n",
        "print('final_val_label.shape =',final_val_label.shape)\n",
        "print('final_train_label.shape =',final_train_label.shape)"
      ],
      "execution_count": 8,
      "outputs": [
        {
          "output_type": "stream",
          "text": [
            "final_test_label.shape = (998, 7)\n",
            "final_val_label.shape = (998, 7)\n",
            "final_train_label.shape = (37555, 7)\n"
          ],
          "name": "stdout"
        }
      ]
    },
    {
      "cell_type": "code",
      "metadata": {
        "id": "roidu5RmFRJq",
        "colab": {
          "base_uri": "https://localhost:8080/"
        },
        "outputId": "24efa415-1b94-4ac5-bc77-227f11369cb3"
      },
      "source": [
        "0.2/10"
      ],
      "execution_count": 11,
      "outputs": [
        {
          "output_type": "execute_result",
          "data": {
            "text/plain": [
              "0.02"
            ]
          },
          "metadata": {
            "tags": []
          },
          "execution_count": 11
        }
      ]
    },
    {
      "cell_type": "code",
      "metadata": {
        "id": "XRwynF9xPBWy"
      },
      "source": [
        "# DenseNet121 ResNet101 DenseNet201 InceptionV3 Xception NASNetLarge ResNet152V2 InceptionResNetV2 EfficientNetB7\r\n",
        "# VGG16\r\n",
        "impl_type = \"TransferLearning3d.VGG16\" # TransferLearning3D \r\n",
        "dataset = \"HAM10000.\"+str(width)+\"p\" # +str(img_size)+\"p\" .gray"
      ],
      "execution_count": 9,
      "outputs": []
    },
    {
      "cell_type": "code",
      "metadata": {
        "id": "rLVsewD-O3gl"
      },
      "source": [
        "#'''\r\n",
        "count_no_improvement = 0\r\n",
        "epoch_initial = True\r\n",
        "#'''"
      ],
      "execution_count": 10,
      "outputs": []
    },
    {
      "cell_type": "code",
      "metadata": {
        "colab": {
          "base_uri": "https://localhost:8080/"
        },
        "id": "OxppPm7hO3l8",
        "outputId": "534af79e-9411-4133-8ac1-719a0f34155e"
      },
      "source": [
        "#NUM_NEURONS = 16\r\n",
        "#NUM_LAYERS = 3\r\n",
        "BATCH_SIZE = 128 # 10\r\n",
        "NUM_EPOCHS = 100\r\n",
        "epochs_completed = 0\r\n",
        "LEARNING_RATE = 0.001\r\n",
        "EPSILON = 0.02\r\n",
        "early_stop_after_epochs = 100\r\n",
        "DROPOUT = 0.2 # 0.5 0.2 0.0\r\n",
        "pad = 0 # 25\r\n",
        "\r\n",
        "LOSS = 'categorical_crossentropy'\r\n",
        "ACTIVATION_FUNCTION = 'relu' # relu sigmoid\r\n",
        "FINAL_ACTIVATION_FUNCTION = 'softmax'\r\n",
        "validation_split = 0.1\r\n",
        "kernel_size=(1,1)\r\n",
        "pointTrainableAfter = \"allDefault\" # \"allDefault\" 160\r\n",
        "OPTIMIZER = \"Adam\" # Adam SGD RMSProp Adagrad\r\n",
        "init_weights = \"imagenet\" # \"imagenet\" None\r\n",
        "modelExt = \"\" # .Dense.128.256.512, .512.512.512\r\n",
        "\r\n",
        "# +\"_kernel\"+str(kernel_size)+\"_lr\"+str(LEARNING_RATE)+\"_batch\"+str(BATCH_SIZE)+\"_epochs\"+str(NUM_EPOCHS)\r\n",
        "#checkpointer_name  = \"weights_\"+dataset+\"_\"+impl_type+\"_nLayers\"+str(NUM_LAYERS)+\"_nNeurons\"+str(NUM_NEURONS)+\".hdf5\"\r\n",
        "ext = \".Flatten.run_1\" # run_1 run_2 .DropAfter .momentum0.9\r\n",
        "#'''\r\n",
        "checkpointer_name  = \"weights.\"+dataset+\".pad\"+str(pad)+\".\"+impl_type+\".wInit.\"+str(init_weights)+\".TrainableAfter.\"+str(pointTrainableAfter)+\\\r\n",
        "                     modelExt+\".actF.\"+ACTIVATION_FUNCTION+\".opt.\"+OPTIMIZER+\".drop.\"+str(DROPOUT)+\".batch\"+str(BATCH_SIZE)+ext+\".hdf5\"\r\n",
        "log_name = \"log.\"+checkpointer_name[8:-5]+\".log\"\r\n",
        "\r\n",
        "print('checkpointer_name =', checkpointer_name)\r\n",
        "print('log_name =', log_name)\r\n",
        "#'''"
      ],
      "execution_count": 16,
      "outputs": [
        {
          "output_type": "stream",
          "text": [
            "checkpointer_name = weights.HAM10000.80p.pad0.TransferLearning3d.VGG16.wInit.imagenet.TrainableAfter.allDefault.actF.relu.opt.Adam.drop.0.2.batch128.Flatten.run_1.hdf5\n",
            "log_name = log.HAM10000.80p.pad0.TransferLearning3d.VGG16.wInit.imagenet.TrainableAfter.allDefault.actF.relu.opt.Adam.drop.0.2.batch128.Flatten.run_1.log\n"
          ],
          "name": "stdout"
        }
      ]
    },
    {
      "cell_type": "code",
      "metadata": {
        "id": "J-OoID4jO08O"
      },
      "source": [
        ""
      ],
      "execution_count": null,
      "outputs": []
    },
    {
      "cell_type": "code",
      "metadata": {
        "colab": {
          "base_uri": "https://localhost:8080/"
        },
        "id": "hcB3WVaWO6BV",
        "outputId": "c1178977-b930-4ac3-a2ff-bf866f051cb9"
      },
      "source": [
        "final_train_imageset.shape[1:]"
      ],
      "execution_count": 14,
      "outputs": [
        {
          "output_type": "execute_result",
          "data": {
            "text/plain": [
              "(80, 80, 3)"
            ]
          },
          "metadata": {
            "tags": []
          },
          "execution_count": 14
        }
      ]
    },
    {
      "cell_type": "code",
      "metadata": {
        "colab": {
          "base_uri": "https://localhost:8080/"
        },
        "id": "XyK6ZbJOOsjV",
        "outputId": "f5cf744e-00fe-4603-fd27-09734e04b6cc"
      },
      "source": [
        "#'''\r\n",
        "#base_model=DenseNet121(weights=None, include_top=False, input_shape=np_train_dataset2.shape[1:]) # `None` (random initialization)\r\n",
        "#base_model=ResNet152V2(weights=None, include_top=False, input_shape=np_train_dataset2.shape[1:])\r\n",
        "# ResNet152V2 ResNet50 ResNet101 ResNet152 DenseNet201 InceptionV3 Xception NASNetLarge 'imagenet' ResNet152V2 DenseNet121\r\n",
        "# VGG16\r\n",
        "#'''\r\n",
        "inputs = Input(final_train_imageset.shape[1:])\r\n",
        "x = ZeroPadding2D(padding=(pad,pad))(inputs)\r\n",
        "base_model=tf.keras.applications.VGG16(weights=init_weights, include_top=False, input_tensor=x)\r\n",
        "#'''\r\n",
        "#base_model=tf.keras.applications.InceptionResNetV2(weights=init_weights, include_top=False, input_shape=final_train_imageset.shape[1:])\r\n",
        "x=base_model.output\r\n",
        "\r\n",
        "#x = Dropout(DROPOUT)(x)\r\n",
        "x = Flatten()(x)\r\n",
        "#x = Dropout(DROPOUT)(x)\r\n",
        "\r\n",
        "'''\r\n",
        "x = Dropout(DROPOUT)(x)\r\n",
        "x = Dense(512)(x)\r\n",
        "x = Dense(512)(x)\r\n",
        "x = Dense(512)(x)\r\n",
        "x = Dropout(DROPOUT)(x)\r\n",
        "#'''\r\n",
        "outputs=Dense(num_classes,activation='softmax')(x)\r\n",
        "\r\n",
        "model=Model(inputs=base_model.input,outputs=outputs)\r\n",
        "model.summary()\r\n",
        "#'''"
      ],
      "execution_count": 17,
      "outputs": [
        {
          "output_type": "stream",
          "text": [
            "Model: \"model_1\"\n",
            "_________________________________________________________________\n",
            "Layer (type)                 Output Shape              Param #   \n",
            "=================================================================\n",
            "input_2 (InputLayer)         [(None, 80, 80, 3)]       0         \n",
            "_________________________________________________________________\n",
            "zero_padding2d_1 (ZeroPaddin (None, 80, 80, 3)         0         \n",
            "_________________________________________________________________\n",
            "block1_conv1 (Conv2D)        (None, 80, 80, 64)        1792      \n",
            "_________________________________________________________________\n",
            "block1_conv2 (Conv2D)        (None, 80, 80, 64)        36928     \n",
            "_________________________________________________________________\n",
            "block1_pool (MaxPooling2D)   (None, 40, 40, 64)        0         \n",
            "_________________________________________________________________\n",
            "block2_conv1 (Conv2D)        (None, 40, 40, 128)       73856     \n",
            "_________________________________________________________________\n",
            "block2_conv2 (Conv2D)        (None, 40, 40, 128)       147584    \n",
            "_________________________________________________________________\n",
            "block2_pool (MaxPooling2D)   (None, 20, 20, 128)       0         \n",
            "_________________________________________________________________\n",
            "block3_conv1 (Conv2D)        (None, 20, 20, 256)       295168    \n",
            "_________________________________________________________________\n",
            "block3_conv2 (Conv2D)        (None, 20, 20, 256)       590080    \n",
            "_________________________________________________________________\n",
            "block3_conv3 (Conv2D)        (None, 20, 20, 256)       590080    \n",
            "_________________________________________________________________\n",
            "block3_pool (MaxPooling2D)   (None, 10, 10, 256)       0         \n",
            "_________________________________________________________________\n",
            "block4_conv1 (Conv2D)        (None, 10, 10, 512)       1180160   \n",
            "_________________________________________________________________\n",
            "block4_conv2 (Conv2D)        (None, 10, 10, 512)       2359808   \n",
            "_________________________________________________________________\n",
            "block4_conv3 (Conv2D)        (None, 10, 10, 512)       2359808   \n",
            "_________________________________________________________________\n",
            "block4_pool (MaxPooling2D)   (None, 5, 5, 512)         0         \n",
            "_________________________________________________________________\n",
            "block5_conv1 (Conv2D)        (None, 5, 5, 512)         2359808   \n",
            "_________________________________________________________________\n",
            "block5_conv2 (Conv2D)        (None, 5, 5, 512)         2359808   \n",
            "_________________________________________________________________\n",
            "block5_conv3 (Conv2D)        (None, 5, 5, 512)         2359808   \n",
            "_________________________________________________________________\n",
            "block5_pool (MaxPooling2D)   (None, 2, 2, 512)         0         \n",
            "_________________________________________________________________\n",
            "flatten_1 (Flatten)          (None, 2048)              0         \n",
            "_________________________________________________________________\n",
            "dense_1 (Dense)              (None, 7)                 14343     \n",
            "=================================================================\n",
            "Total params: 14,729,031\n",
            "Trainable params: 14,729,031\n",
            "Non-trainable params: 0\n",
            "_________________________________________________________________\n"
          ],
          "name": "stdout"
        }
      ]
    },
    {
      "cell_type": "code",
      "metadata": {
        "colab": {
          "base_uri": "https://localhost:8080/"
        },
        "id": "ozx7Z-ZiUE-2",
        "outputId": "7d316eb0-a110-4683-84ba-5205ae4566ad"
      },
      "source": [
        "count_trainable = 0\n",
        "count_non_trainable = 0\n",
        "\n",
        "#'''\n",
        "if pointTrainableAfter == \"allDefault\":\n",
        "    for layer in model.layers:\n",
        "        layer.trainable=True\n",
        "        count_trainable += 1\n",
        "elif pointTrainableAfter > 0:\n",
        "    for layer in model.layers[:pointTrainableAfter]: # [:-pointTrainableAfter]\n",
        "        layer.trainable=False\n",
        "        count_non_trainable += 1\n",
        "    for layer in model.layers[pointTrainableAfter:]: # [-pointTrainableAfter:]\n",
        "        layer.trainable=True\n",
        "        count_trainable += 1\n",
        "#'''\n",
        "\n",
        "'''\n",
        "for layer in model.layers:\n",
        "    layer.trainable=True\n",
        "    count_trainable += 1\n",
        "#'''\n",
        "\n",
        "print(\"count_non_trainable =\", count_non_trainable)\n",
        "print(\"count_trainable =\", count_trainable)\n",
        "print(\"Total number of layers =\", count_non_trainable+count_trainable)"
      ],
      "execution_count": 18,
      "outputs": [
        {
          "output_type": "stream",
          "text": [
            "count_non_trainable = 0\n",
            "count_trainable = 22\n",
            "Total number of layers = 22\n"
          ],
          "name": "stdout"
        }
      ]
    },
    {
      "cell_type": "code",
      "metadata": {
        "colab": {
          "base_uri": "https://localhost:8080/",
          "height": 72
        },
        "id": "aqwYD5TGPxyV",
        "outputId": "ef9f39b2-3fa7-489c-e689-db7fe3a130fb"
      },
      "source": [
        "'''\r\n",
        "checkpointer_name  = \"weights.\"+dataset+\".pad\"+str(pad)+\".\"+impl_type+\".wInit.\"+str(init_weights)+\".TrainableAfter.\"+str(pointTrainableAfter)+\\\r\n",
        "                     modelExt+\".opt.\"+OPTIMIZER+\".drop.\"+str(DROPOUT)+\".batch\"+str(BATCH_SIZE)+ext+\".hdf5\"\r\n",
        "log_name = \"log.\"+checkpointer_name[8:-5]+\".log\"\r\n",
        "\r\n",
        "print('checkpointer_name =', checkpointer_name)\r\n",
        "print('log_name =', log_name)\r\n",
        "#'''"
      ],
      "execution_count": null,
      "outputs": [
        {
          "output_type": "execute_result",
          "data": {
            "application/vnd.google.colaboratory.intrinsic+json": {
              "type": "string"
            },
            "text/plain": [
              "'\\ncheckpointer_name  = \"weights.\"+dataset+\".pad\"+str(pad)+\".\"+impl_type+\".wInit.\"+str(init_weights)+\".TrainableAfter.\"+str(pointTrainableAfter)+                     modelExt+\".opt.\"+OPTIMIZER+\".drop.\"+str(DROPOUT)+\".batch\"+str(BATCH_SIZE)+ext+\".hdf5\"\\nlog_name = \"log.\"+checkpointer_name[8:-5]+\".log\"\\n\\nprint(\\'checkpointer_name =\\', checkpointer_name)\\nprint(\\'log_name =\\', log_name)\\n#'"
            ]
          },
          "metadata": {
            "tags": []
          },
          "execution_count": 16
        }
      ]
    },
    {
      "cell_type": "code",
      "metadata": {
        "colab": {
          "base_uri": "https://localhost:8080/"
        },
        "id": "3T7w_lC1QCPh",
        "outputId": "c72ea0cf-35b0-4130-8e3a-053a3bf99a95"
      },
      "source": [
        "# \"RMSProp\" \"SGD\" \"Adam\" \"Adamax\" \"Adadelta\" \"Adagrad\" \"SGD\"\r\n",
        "#optimizer = tf.keras.optimizers.RMSprop(lr = LEARNING_RATE, epsilon=EPSILON)\r\n",
        "\r\n",
        "if OPTIMIZER == \"RMSProp\":\r\n",
        "    optimizer = tf.keras.optimizers.RMSprop(lr = LEARNING_RATE, epsilon=EPSILON)\r\n",
        "elif OPTIMIZER == \"Adam\":\r\n",
        "    optimizer = tf.keras.optimizers.Adam(lr = LEARNING_RATE, epsilon=EPSILON, beta_1=0.9, beta_2=0.999)\r\n",
        "elif OPTIMIZER == \"Adamax\":\r\n",
        "    optimizer = tf.keras.optimizers.Adamax(lr = LEARNING_RATE, epsilon=EPSILON, beta_1=0.9, beta_2=0.999)\r\n",
        "elif OPTIMIZER == \"Adadelta\":\r\n",
        "    optimizer = tf.keras.optimizers.Adadelta(lr = LEARNING_RATE, epsilon=EPSILON, rho=0.95)\r\n",
        "elif OPTIMIZER == \"Adagrad\":\r\n",
        "    optimizer = tf.keras.optimizers.Adagrad(lr = LEARNING_RATE, epsilon=EPSILON, initial_accumulator_value=0.1)\r\n",
        "elif OPTIMIZER == \"SGD\":\r\n",
        "    optimizer = tf.keras.optimizers.SGD(lr = LEARNING_RATE, momentum=0.9)\r\n",
        "\r\n",
        "model.compile(\r\n",
        "    #optimizer=OPTIMIZER,\r\n",
        "    optimizer=optimizer,\r\n",
        "    loss=LOSS,\r\n",
        "    metrics=['accuracy']\r\n",
        ")\r\n",
        "\r\n",
        "print(\"OPTIMIZER =\", OPTIMIZER)"
      ],
      "execution_count": 19,
      "outputs": [
        {
          "output_type": "stream",
          "text": [
            "OPTIMIZER = Adam\n"
          ],
          "name": "stdout"
        }
      ]
    },
    {
      "cell_type": "code",
      "metadata": {
        "id": "OdySVEG3QCpv"
      },
      "source": [
        "# save the best model with least validation loss\r\n",
        "checkpointer = ModelCheckpoint(filepath = work_dir+checkpointer_name, \r\n",
        "                               #monitor='val_accuracy',\r\n",
        "                               monitor='val_loss',\r\n",
        "                               save_weights_only=False,  \r\n",
        "                               mode='auto', \r\n",
        "                               verbose = 0, # 0 = silent, 1 = progress bar, 2 = one line per epoch\r\n",
        "                               save_best_only =False\r\n",
        "                               )\r\n",
        "checkpointer_best = ModelCheckpoint(filepath = work_dir+\"best_\"+checkpointer_name, \r\n",
        "                                    monitor='val_loss', \r\n",
        "                                    save_weights_only=False,\r\n",
        "                                    mode='auto',  \r\n",
        "                                    verbose = 1, \r\n",
        "                                    save_best_only = True\r\n",
        "                                    )\r\n",
        "early_stopping = EarlyStopping(monitor='loss', patience=early_stop_after_epochs)"
      ],
      "execution_count": 20,
      "outputs": []
    },
    {
      "cell_type": "code",
      "metadata": {
        "colab": {
          "base_uri": "https://localhost:8080/"
        },
        "id": "Fq3iXmYXQHNL",
        "outputId": "9db797b4-17a2-4ab0-d135-0ed1ce04d53c"
      },
      "source": [
        "'''\r\n",
        "if 'count_no_improvement' not in globals():\r\n",
        "    count_no_improvement = 0\r\n",
        "    print(\"count_no_improvement =\", count_no_improvement)\r\n",
        "#'''\r\n",
        "'''\r\n",
        "count_no_improvement = 0\r\n",
        "epoch_initial = False\r\n",
        "#'''\r\n",
        "min_delta = 0.0000000001\r\n",
        "print(\"count_no_improvement =\", count_no_improvement)\r\n",
        "\r\n",
        "def checkBestPerformance(epoch, logs):\r\n",
        "    save_filepath = work_dir+\"best_\"+checkpointer_name\r\n",
        "\r\n",
        "    global epoch_initial\r\n",
        "    if epoch_initial == True:\r\n",
        "        epoch_initial = False\r\n",
        "        model.save(filepath = save_filepath)\r\n",
        "        print(\". Model saved!\")\r\n",
        "\r\n",
        "    elif epoch_initial == False:\r\n",
        "        global count_no_improvement\r\n",
        "\r\n",
        "        log_data = pd.read_csv(work_dir+log_name, sep=',', usecols=['val_loss', 'val_accuracy'], engine='python')\r\n",
        "        '''\r\n",
        "        min_val_loss = float(str(min(log_data.val_loss.values))[:6])\r\n",
        "        max_val_acc = float(str(max(log_data.val_accuracy.values))[:6])\r\n",
        "\r\n",
        "        current_val_acc = float(str(logs['val_accuracy'])[:6])\r\n",
        "        current_val_loss = float(str(logs['val_loss'])[:6])\r\n",
        "        #'''\r\n",
        "        #'''\r\n",
        "        min_val_loss = float(str(min(log_data.val_loss.values)))\r\n",
        "        max_val_acc = float(str(max(log_data.val_accuracy.values)))\r\n",
        "\r\n",
        "        current_val_acc = float(str(logs['val_accuracy']))\r\n",
        "        current_val_loss = float(str(logs['val_loss']))\r\n",
        "        #'''\r\n",
        "\r\n",
        "        if (current_val_loss < min_val_loss) and (abs(current_val_loss-min_val_loss) >= min_delta):\r\n",
        "            count_no_improvement = 0\r\n",
        "            model.save(filepath = save_filepath)\r\n",
        "            print(\"\\nval_loss decreased from\",min_val_loss,\" to\",current_val_loss,\"( val_accuracy =\",current_val_acc,\").\")\r\n",
        "\r\n",
        "        elif (current_val_loss==min_val_loss) and (current_val_acc>max_val_acc):\r\n",
        "            count_no_improvement = 0\r\n",
        "            model.save(filepath = save_filepath)\r\n",
        "            print(\"\\nval_accuracy increased to\", current_val_acc, \".\")\r\n",
        "\r\n",
        "        else:\r\n",
        "            count_no_improvement += 1\r\n",
        "            print(\". count_no_improvement =\", count_no_improvement)\r\n",
        "\r\n",
        "        if count_no_improvement >= early_stop_after_epochs:\r\n",
        "            global list_callbacks\r\n",
        "            del list_callbacks, count_no_improvement\r\n",
        "            #print(\"count_no_improvement =\", count_no_improvement, \"... list_callbacks =\", list_callbacks)"
      ],
      "execution_count": 21,
      "outputs": [
        {
          "output_type": "stream",
          "text": [
            "count_no_improvement = 0\n"
          ],
          "name": "stdout"
        }
      ]
    },
    {
      "cell_type": "code",
      "metadata": {
        "colab": {
          "base_uri": "https://localhost:8080/"
        },
        "id": "YYewyuDiREFZ",
        "outputId": "352ce353-2132-4ca8-ad20-28887cdd6d67"
      },
      "source": [
        "epochs_completed = 0\r\n",
        "list_callbacks = []\r\n",
        "csv_logger = CSVLogger(work_dir+log_name, separator=',', append=True)\r\n",
        "\r\n",
        "#if 'list_callbacks' in globals():\r\n",
        "#    del list_callbacks\r\n",
        "\r\n",
        "try:\r\n",
        "    log_data = pd.read_csv(work_dir+log_name, sep=',', usecols=['epoch'], engine='python')\r\n",
        "    epochs_completed = log_data.shape[0]\r\n",
        "\r\n",
        "    #if epochs_completed > 0:\r\n",
        "    model = load_model(work_dir+checkpointer_name)\r\n",
        "    list_callbacks = [checkpointer, LambdaCallback(on_epoch_end=checkBestPerformance), csv_logger]\r\n",
        "    print(\"epochs_completed =\", epochs_completed)\r\n",
        "\r\n",
        "except Exception as error:\r\n",
        "    if epochs_completed == 0:\r\n",
        "        # list_callbacks = [checkpointer, checkpointer_best, csv_logger, early_stopping] \r\n",
        "        list_callbacks = [checkpointer, LambdaCallback(on_epoch_end=checkBestPerformance), csv_logger]\r\n",
        "        print(\"epochs_completed =\", epochs_completed)\r\n",
        "    elif epochs_completed > 0:\r\n",
        "        print(error)\r\n",
        "\r\n",
        "print('checkpointer_name =', checkpointer_name)"
      ],
      "execution_count": 22,
      "outputs": [
        {
          "output_type": "stream",
          "text": [
            "epochs_completed = 0\n",
            "checkpointer_name = weights.HAM10000.80p.pad0.TransferLearning3d.VGG16.wInit.imagenet.TrainableAfter.allDefault.actF.relu.opt.Adam.drop.0.2.batch128.Flatten.run_1.hdf5\n"
          ],
          "name": "stdout"
        }
      ]
    },
    {
      "cell_type": "code",
      "metadata": {
        "colab": {
          "background_save": true,
          "base_uri": "https://localhost:8080/"
        },
        "id": "6JKqrHnwRGGz",
        "outputId": "a045a7ff-8579-4963-a5f1-faa32bcdd5da"
      },
      "source": [
        "print('checkpointer_name =', checkpointer_name)\r\n",
        "print(\"Previously completed epochs =\", epochs_completed)\r\n",
        "print(\"count_no_improvement =\", count_no_improvement, \"\\n\")\r\n",
        "\r\n",
        "#'''\r\n",
        "try:\r\n",
        "    start_time = time.time()\r\n",
        "    history = model.fit(final_train_imageset, final_train_label, \r\n",
        "                        shuffle=True, \r\n",
        "                        batch_size = BATCH_SIZE, \r\n",
        "                        epochs = NUM_EPOCHS - epochs_completed, \r\n",
        "                        #steps_per_epoch = 2,\r\n",
        "                        #validation_split = validation_split, \r\n",
        "                        validation_data = (final_val_imageset, final_val_label),\r\n",
        "                        callbacks=list_callbacks\r\n",
        "                        )\r\n",
        "    elapsed_time = time.time() - start_time \r\n",
        "    print(\"\\nTime elapsed: \", elapsed_time)\r\n",
        "\r\n",
        "except Exception as error:\r\n",
        "    print(\"\\nError:\", error)\r\n",
        "#'''"
      ],
      "execution_count": null,
      "outputs": [
        {
          "output_type": "stream",
          "text": [
            "checkpointer_name = weights.HAM10000.80p.pad0.TransferLearning3d.VGG16.wInit.imagenet.TrainableAfter.allDefault.actF.relu.opt.Adam.drop.0.2.batch128.Flatten.run_1.hdf5\n",
            "Previously completed epochs = 0\n",
            "count_no_improvement = 0 \n",
            "\n",
            "Epoch 1/100\n",
            "294/294 [==============================] - 90s 271ms/step - loss: 1.3984 - accuracy: 0.4622 - val_loss: 1.2926 - val_accuracy: 0.5561\n",
            ". Model saved!\n",
            "Epoch 2/100\n",
            " 33/294 [==>...........................] - ETA: 1:06 - loss: 0.5557 - accuracy: 0.7885"
          ],
          "name": "stdout"
        }
      ]
    },
    {
      "cell_type": "code",
      "metadata": {
        "colab": {
          "background_save": true
        },
        "id": "UJsgsZFzQCs2"
      },
      "source": [
        ""
      ],
      "execution_count": null,
      "outputs": []
    },
    {
      "cell_type": "code",
      "metadata": {
        "colab": {
          "background_save": true
        },
        "id": "l_xKnoFvFQ4F"
      },
      "source": [
        "'''\n",
        "Record: \n",
        ";\n",
        "---\n",
        "Test Acc: 0.7315, Test Loss: 1.0199: ep21, weights.HAM10000.gray..pad0.TransferLearning.InceptionResNetV2.wInit.None.TrainableAfter.allDefault.opt.SGD.drop.0.0.batch32.Flatten.run_1.hdf5\n",
        "Test Acc: 0.7184, Test Loss: 1.1648: ep11, weights.HAM10000.gray..pad0.TransferLearning.Xception.wInit.None.TrainableAfter.allDefault.opt.SGD.drop.0.0.batch32.Flatten.run_1.hdf5\n",
        "Test Acc: 0.7134, Test Loss: 1.0581: ep13, weights.HAM10000.gray.pad0.TransferLearning.InceptionResNetV2.wInit.None.TrainableAfter.allDefault.opt.SGD.drop.0.5.batch32.Flatten.run_1.hdf5\n",
        "Test Acc: 0.6503, Test Loss: 1.2336: ep11, weights.HAM10000.gray.pad0.TransferLearning.InceptionV3.wInit.None.TrainableAfter.allDefault.opt.SGD.drop.0.5.batch32.Flatten.run_1.hdf5\n",
        "Test Acc: 0.6643, Test Loss: 1.1307: ep14, weights.HAM10000.gray.pad0.TransferLearning.DenseNet201.wInit.None.TrainableAfter.allDefault.opt.SGD.drop.0.0.batch32.Flatten.run_1.hdf5\n",
        "Test Acc: 0.0772, Test Loss: 3.2380: ep4, weights.HAM10000.gray.pad0.TransferLearning.NASNetLarge.wInit.None.TrainableAfter.allDefault.opt.SGD.drop.0.5.batch32.Flatten.run_1.hdf5\n",
        "Test Acc: 0.6984, Test Loss: 1.4342: ep13, weights.HAM10000.gray.pad0.TransferLearning.ResNet152V2.wInit.None.TrainableAfter.allDefault.opt.SGD.drop.0.5.batch32.Flatten.run_1.hdf5\n",
        "Test Acc: 0.0471, Test Loss: 2.0939: ep8, weights.HAM10000.gray.pad0.TransferLearning.EfficientNetB7.wInit.None.TrainableAfter.allDefault.opt.SGD.drop.0.5.batch32.Flatten.run_1.hdf5\n",
        "Test Acc: 0.7014, Test Loss: 1.9539: ep7, weights.HAM10000.gray.pad0.TransferLearning.InceptionResNetV2.wInit.None.TrainableAfter.allDefault.opt.Adam.drop.0.5.batch32.Flatten.run_1.hdf5\n",
        "Test Acc: 0.6924, Test Loss: 3.5646: ep7, weights.HAM10000.gray.pad0.TransferLearning.InceptionResNetV2.wInit.None.TrainableAfter.allDefault.opt.RMSProp.drop.0.5.batch32.Flatten.run_1.hdf5\n",
        "Test Acc: 0.7104, Test Loss: 0.9851: ep11, weights.HAM10000.gray.pad0.TransferLearning.InceptionResNetV2.wInit.None.TrainableAfter.allDefault.opt.SGD.drop.0.5.batch32.Flatten.run_3.hdf5\n",
        "Test Acc: 0.7074, Test Loss: 0.9644: ep11, weights.HAM10000.gray.pad0.TransferLearning.InceptionResNetV2.wInit.None.TrainableAfter.allDefault.opt.SGD.drop.0.8.batch32.Flatten.run_1.hdf5\n",
        "Test Acc: 0.7234, Test Loss: 1.0095: ep12, weights.HAM10000.gray.pad0.TransferLearning.InceptionResNetV2.wInit.None.TrainableAfter.allDefault.actF.sigmoid.opt.SGD.drop.0.5.batch32.Flatten.run_1.hdf5\n",
        "-\n",
        "Test Acc: 0.6673, Test Loss: 1.2421: ep8, weights.HAM10000.gray.pad50.TransferLearning3d.InceptionResNetV2.wInit.None.TrainableAfter.allDefault.actF.relu.opt.SGD.drop.0.5.batch32.Flatten.run_1.hdf5\n",
        "Test Acc: 0.6463, Test Loss: 1.4643: ep9, weights.HAM10000.gray.pad50.TransferLearning3d.InceptionResNetV2.wInit.imagenet.TrainableAfter.allDefault.actF.relu.opt.SGD.drop.0.5.batch32.Flatten.run_1.hdf5\n",
        "Test Acc: 0.4890, Test Loss: 1.3445: ep14, weights.HAM10000.gray.pad50.TransferLearning3d.InceptionResNetV2.wInit.imagenet.TrainableAfter.780.actF.relu.opt.SGD.drop.0.5.batch32.Flatten.run_1.hdf5\n",
        "Test Acc: 0.7064, Test Loss: 1.3618: ep10, weights.HAM10000.gray.pad25.TransferLearning3d.InceptionResNetV2.wInit.imagenet.TrainableAfter.allDefault.actF.relu.opt.SGD.drop.0.5.batch32.Flatten.run_1.hdf5\n",
        "Test Acc: 0.7164, Test Loss: 1.5296: ep8, weights.HAM10000.gray.pad0.TransferLearning3d.DenseNet201.wInit.imagenet.TrainableAfter.allDefault.actF.relu.opt.SGD.drop.0.5.batch32.Flatten.run_1.hdf5\n",
        "-\n",
        "Test Acc: 0.7555, Test Loss: 1.2763: ep7, weights.HAM10000.64p.pad0.TransferLearning3d.DenseNet201.wInit.imagenet.TrainableAfter.allDefault.actF.relu.opt.SGD.drop.0.5.batch32.Flatten.run_1.hdf5\n",
        "Test Acc: 0.7445, Test Loss: 1.2520: ep9, weights.HAM10000.64p.pad10.TransferLearning3d.InceptionResNetV2.wInit.imagenet.TrainableAfter.allDefault.actF.relu.opt.SGD.drop.0.5.batch32.Flatten.run_2.hdf5\n",
        "Test Acc: 0.7405, Test Loss: 1.2149: ep8, weights.HAM10000.80p.pad0.TransferLearning3d.InceptionResNetV2.wInit.imagenet.TrainableAfter.allDefault.actF.relu.opt.SGD.drop.0.5.batch32.Flatten.run_2.hdf5\n",
        "Test Acc: 0.7034, Test Loss: 23.5038: ep40, weights.HAM10000.80p.pad0.TransferLearning3d.InceptionResNetV2.wInit.imagenet.TrainableAfter.allDefault.actF.relu.opt.Adagrad.drop.0.5.batch32.Flatten.run_1.hdf5\n",
        "\n",
        "#'''\n",
        "\n",
        "csv_logger = CSVLogger(work_dir+log_name, separator=',', append=True)\n",
        "log_data = pd.read_csv(work_dir+log_name, sep=',', usecols=['epoch'], engine='python')\n",
        "epochs_completed = log_data.shape[0]\n",
        "\n",
        "result = model.evaluate(final_test_imageset, final_test_label)\n",
        "print(\"Test Acc: {}, Test Loss: {}: ep{}, {}\\n\".format(round(result[1],4), round(result[0],4), epochs_completed, checkpointer_name))\n"
      ],
      "execution_count": null,
      "outputs": []
    },
    {
      "cell_type": "code",
      "metadata": {
        "colab": {
          "background_save": true
        },
        "id": "IQM7JieEFQ1G"
      },
      "source": [
        "#checkpointer_name = \"weights.Fashion.DenseNet121.wInit.None.TrainableAfterallDefault.opt.SGD.drop.0.0.batch32.Flatten.run_1.hdf5\"\r\n",
        "model_loaded = load_model(work_dir+\"best_\"+checkpointer_name)\r\n",
        "print(\"Loaded \"+work_dir+\"best_\"+checkpointer_name+\".\")"
      ],
      "execution_count": null,
      "outputs": []
    },
    {
      "cell_type": "code",
      "metadata": {
        "colab": {
          "background_save": true
        },
        "id": "chvVsOEgRfsO"
      },
      "source": [
        "'''\r\n",
        "Record: \r\n",
        ";\r\n",
        "---\r\n",
        "Test Acc: 0.7064, Test Loss: 0.8730: ep21, best_weights.HAM10000.gray..pad0.TransferLearning.InceptionResNetV2.wInit.None.TrainableAfter.allDefault.opt.SGD.drop.0.0.batch32.Flatten.run_1.hdf5\r\n",
        "Test Acc: 0.7164, Test Loss: 0.9565: ep11, best_weights.HAM10000.gray..pad0.TransferLearning.Xception.wInit.None.TrainableAfter.allDefault.opt.SGD.drop.0.0.batch32.Flatten.run_1.hdf5\r\n",
        "Test Acc: 0.7355, Test Loss: 0.8350: ep13, best_weights.HAM10000.gray.pad0.TransferLearning.InceptionResNetV2.wInit.None.TrainableAfter.allDefault.opt.SGD.drop.0.5.batch32.Flatten.run_1.hdf5\r\n",
        "Test Acc: 0.5922, Test Loss: 1.1356: ep11, best_weights.HAM10000.gray.pad0.TransferLearning.InceptionV3.wInit.None.TrainableAfter.allDefault.opt.SGD.drop.0.5.batch32.Flatten.run_1.hdf5\r\n",
        "Test Acc: 0.6914, Test Loss: 0.9901: ep14, best_weights.HAM10000.gray.pad0.TransferLearning.DenseNet201.wInit.None.TrainableAfter.allDefault.opt.SGD.drop.0.0.batch32.Flatten.run_1.hdf5\r\n",
        "Test Acc: 0.0110, Test Loss: 2.1527: ep4, best_weights.HAM10000.gray.pad0.TransferLearning.NASNetLarge.wInit.None.TrainableAfter.allDefault.opt.SGD.drop.0.5.batch32.Flatten.run_1.hdf5\r\n",
        "Test Acc: 0.6403, Test Loss: 1.1542: ep13, best_weights.HAM10000.gray.pad0.TransferLearning.ResNet152V2.wInit.None.TrainableAfter.allDefault.opt.SGD.drop.0.5.batch32.Flatten.run_1.hdf5\r\n",
        "Test Acc: 0.0411, Test Loss: 1.9381: ep8, best_weights.HAM10000.gray.pad0.TransferLearning.EfficientNetB7.wInit.None.TrainableAfter.allDefault.opt.SGD.drop.0.5.batch32.Flatten.run_1.hdf5\r\n",
        "Test Acc: 0.6693, Test Loss: 1.0709: ep7, best_weights.HAM10000.gray.pad0.TransferLearning.InceptionResNetV2.wInit.None.TrainableAfter.allDefault.opt.Adam.drop.0.5.batch32.Flatten.run_1.hdf5\r\n",
        "Test Acc: 0.6733, Test Loss: 1.1676: ep7, best_weights.HAM10000.gray.pad0.TransferLearning.InceptionResNetV2.wInit.None.TrainableAfter.allDefault.opt.RMSProp.drop.0.5.batch32.Flatten.run_1.hdf5\r\n",
        "Test Acc: 0.6954, Test Loss: 0.9408: ep11, best_weights.HAM10000.gray.pad0.TransferLearning.InceptionResNetV2.wInit.None.TrainableAfter.allDefault.opt.SGD.drop.0.5.batch32.Flatten.run_3.hdf5\r\n",
        "Test Acc: 0.6964, Test Loss: 0.8746: ep12, best_weights.HAM10000.gray.pad0.TransferLearning.InceptionResNetV2.wInit.None.TrainableAfter.allDefault.actF.sigmoid.opt.SGD.drop.0.5.batch32.Flatten.run_1.hdf5\r\n",
        "-\r\n",
        "Test Acc: 0.6623, Test Loss: 0.9596: ep8, best_weights.HAM10000.gray.pad50.TransferLearning3d.InceptionResNetV2.wInit.None.TrainableAfter.allDefault.actF.relu.opt.SGD.drop.0.5.batch32.Flatten.run_1.hdf5\r\n",
        "Test Acc: 0.6463, Test Loss: 1.0797: ep9, best_weights.HAM10000.gray.pad50.TransferLearning3d.InceptionResNetV2.wInit.imagenet.TrainableAfter.allDefault.actF.relu.opt.SGD.drop.0.5.batch32.Flatten.run_1.hdf5\r\n",
        "Test Acc: 0.5952, Test Loss: 1.1676: ep14, best_weights.HAM10000.gray.pad50.TransferLearning3d.InceptionResNetV2.wInit.imagenet.TrainableAfter.780.actF.relu.opt.SGD.drop.0.5.batch32.Flatten.run_1.hdf5\r\n",
        "Test Acc: 0.6663, Test Loss: 1.0707: ep10, best_weights.HAM10000.gray.pad25.TransferLearning3d.InceptionResNetV2.wInit.imagenet.TrainableAfter.allDefault.actF.relu.opt.SGD.drop.0.5.batch32.Flatten.run_1.hdf5\r\n",
        "Test Acc: 0.6493, Test Loss: 0.9983: ep8, best_weights.HAM10000.gray.pad0.TransferLearning3d.DenseNet201.wInit.imagenet.TrainableAfter.allDefault.actF.relu.opt.SGD.drop.0.5.batch32.Flatten.run_1.hdf5\r\n",
        "-\r\n",
        "Test Acc: 0.6854, Test Loss: 0.9169: ep7, best_weights.HAM10000.64p.pad0.TransferLearning3d.DenseNet201.wInit.imagenet.TrainableAfter.allDefault.actF.relu.opt.SGD.drop.0.5.batch32.Flatten.run_1.hdf5\r\n",
        "Test Acc: 0.6994, Test Loss: 1.0135: ep9, best_weights.HAM10000.64p.pad10.TransferLearning3d.InceptionResNetV2.wInit.imagenet.TrainableAfter.allDefault.actF.relu.opt.SGD.drop.0.5.batch32.Flatten.run_2.hdf5\r\n",
        "Test Acc: 0.6944, Test Loss: 0.8978: ep8, best_weights.HAM10000.80p.pad0.TransferLearning3d.InceptionResNetV2.wInit.imagenet.TrainableAfter.allDefault.actF.relu.opt.SGD.drop.0.5.batch32.Flatten.run_2.hdf5\r\n",
        "Test Acc: 0.7044, Test Loss: 96.0066: ep40, best_weights.HAM10000.80p.pad0.TransferLearning3d.InceptionResNetV2.wInit.imagenet.TrainableAfter.allDefault.actF.relu.opt.Adagrad.drop.0.5.batch32.Flatten.run_1.hdf5\r\n",
        "\r\n",
        "#'''\r\n",
        "'''\r\n",
        "csv_logger = CSVLogger(work_dir+log_name, separator=',', append=True)\r\n",
        "log_data = pd.read_csv(work_dir+log_name, sep=',', usecols=['epoch'], engine='python')\r\n",
        "epochs_completed = log_data.shape[0]\r\n",
        "#'''\r\n",
        "\r\n",
        "result2 = model_loaded.evaluate(final_test_imageset, final_test_label)\r\n",
        "#print(\"nLayers: {}, nNeurons: {}, DROPOUT: {}, Test Acc: {}, Test Loss: {}\".format(NUM_LAYERS, NUM_NEURONS, DROPOUT, round(result2[1], 4), round(result2[0], 4)))\r\n",
        "print(\"Test Acc: {}, Test Loss: {}: ep{}, {}\\n\".format(round(result2[1],4), round(result2[0],4), epochs_completed, \"best_\"+checkpointer_name))\r\n"
      ],
      "execution_count": null,
      "outputs": []
    },
    {
      "cell_type": "code",
      "metadata": {
        "colab": {
          "background_save": true
        },
        "id": "z1GzwpODRlRf"
      },
      "source": [
        "import csv\r\n",
        "\r\n",
        "with open(work_dir+'Records.csv', \"a\") as fp:\r\n",
        "    wr = csv.writer(fp, dialect='excel')\r\n",
        "    try:\r\n",
        "        wr.writerow([checkpointer_name[8:-5], round(result2[1], 4), round(result2[0], 4), elapsed_time])\r\n",
        "    except:\r\n",
        "        wr.writerow([checkpointer_name[8:-5], round(result2[1], 4), round(result2[0], 4)])\r\n",
        "print(\"Saved results.\")"
      ],
      "execution_count": null,
      "outputs": []
    },
    {
      "cell_type": "code",
      "metadata": {
        "colab": {
          "background_save": true
        },
        "id": "Dv35-hm1Rfv5"
      },
      "source": [
        ""
      ],
      "execution_count": null,
      "outputs": []
    },
    {
      "cell_type": "code",
      "metadata": {
        "colab": {
          "background_save": true
        },
        "id": "hgY4v21DyQwL"
      },
      "source": [
        "#Confution Matrix and Classification Report\r\n",
        "'''\r\n",
        "Y_pred = model_loaded.predict_generator(final_test_imageset, len(final_test_imageset))\r\n",
        "y_pred = np.argmax(Y_pred, axis=1)\r\n",
        "print('Confusion Matrix')\r\n",
        "print(confusion_matrix(y_test, y_pred))\r\n",
        "#'''"
      ],
      "execution_count": null,
      "outputs": []
    },
    {
      "cell_type": "code",
      "metadata": {
        "colab": {
          "background_save": true
        },
        "id": "U5j7b3KcRvwj"
      },
      "source": [
        "# Precision [TP/TP+FP] = The ratio of correctly predicted positive observations to the total predicted positive observations.\r\n",
        "# Recall (Sensitivity) [TP/TP+FN] = The ratio of correctly predicted positive observations to the all observations in actual class - 'yes'.\r\n",
        "# F1 score [F1 Score = 2*(Recall * Precision) / (Recall + Precision)] = The weighted average of Precision and Recall.\r\n",
        "# Support = The number of samples of the true response that lie in that class.\r\n",
        "'''\r\n",
        "print('Classification Report:')\r\n",
        "#target_names = ['Mono', 'Di'] # not ['Di', 'Mono']\r\n",
        "print(classification_report(y_test, y_pred)) #, target_names=target_names))\r\n",
        "#'''"
      ],
      "execution_count": null,
      "outputs": []
    },
    {
      "cell_type": "code",
      "metadata": {
        "colab": {
          "background_save": true
        },
        "id": "ceGRitu9RvzV"
      },
      "source": [
        "'''\r\n",
        "print('Classification Report')\r\n",
        "print(classification_report(y_test, y_pred, target_names=list_categories))\r\n",
        "#'''"
      ],
      "execution_count": null,
      "outputs": []
    },
    {
      "cell_type": "code",
      "metadata": {
        "colab": {
          "background_save": true
        },
        "id": "ujLQjTf2Rv11"
      },
      "source": [
        "log_data = pd.read_csv(work_dir+log_name, sep=',', engine='python') "
      ],
      "execution_count": null,
      "outputs": []
    },
    {
      "cell_type": "code",
      "metadata": {
        "colab": {
          "background_save": true
        },
        "id": "To55jgGSRv4a"
      },
      "source": [
        "# Getting the model history keys \r\n",
        "#history.history.keys()\r\n",
        "log_data.head()"
      ],
      "execution_count": null,
      "outputs": []
    },
    {
      "cell_type": "code",
      "metadata": {
        "colab": {
          "background_save": true
        },
        "id": "aytAYSJ4Rv7T"
      },
      "source": [
        "# plot the training artifacts\r\n",
        "title = \"Val loss for \"+dataset+\" \"+impl_type\r\n",
        "\r\n",
        "plt.plot(log_data['loss'])\r\n",
        "plt.plot(log_data['val_loss'])\r\n",
        "plt.title(title)\r\n",
        "plt.ylabel('loss')\r\n",
        "plt.xlabel('epoch')\r\n",
        "plt.legend(['train_loss','val_loss'], loc = 'best')\r\n",
        "\r\n",
        "img_path = work_dir+'Images/vLoss_'+checkpointer_name[8:-5]+'.png'\r\n",
        "plt.savefig(img_path, dpi=600)\r\n",
        "plt.show()\r\n",
        "print('img_path =', img_path)"
      ],
      "execution_count": null,
      "outputs": []
    },
    {
      "cell_type": "code",
      "metadata": {
        "colab": {
          "background_save": true
        },
        "id": "yUq1WaElRv-M"
      },
      "source": [
        "title = \"Val acc for \"+dataset+\" \"+impl_type\r\n",
        "\r\n",
        "plt.plot(log_data['accuracy'])\r\n",
        "plt.plot(log_data['val_accuracy'])\r\n",
        "plt.title(title)\r\n",
        "plt.ylabel('accuracy')\r\n",
        "plt.xlabel('epoch')\r\n",
        "plt.legend(['train_accuracy','val_accuracy'], loc = 'best')\r\n",
        "\r\n",
        "img_path = work_dir+'Images/vAcc_'+checkpointer_name[8:-5]+'.png'\r\n",
        "plt.savefig(img_path, dpi=600)\r\n",
        "plt.show()\r\n",
        "print('img_path =', img_path)"
      ],
      "execution_count": null,
      "outputs": []
    },
    {
      "cell_type": "code",
      "metadata": {
        "colab": {
          "background_save": true
        },
        "id": "w4msuVKMSk8E"
      },
      "source": [
        ""
      ],
      "execution_count": null,
      "outputs": []
    }
  ]
}